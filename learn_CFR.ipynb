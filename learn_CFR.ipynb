{
 "cells": [
  {
   "cell_type": "code",
   "execution_count": 12,
   "metadata": {},
   "outputs": [
    {
     "name": "stdout",
     "output_type": "stream",
     "text": [
      "Populating the interactive namespace from numpy and matplotlib\n",
      "The autoreload extension is already loaded. To reload it, use:\n",
      "  %reload_ext autoreload\n"
     ]
    }
   ],
   "source": [
    "%pylab inline\n",
    "%load_ext autoreload\n",
    "%autoreload 2\n",
    "import numpy as np\n",
    "import random\n",
    "np.set_printoptions(suppress=True)"
   ]
  },
  {
   "cell_type": "code",
   "execution_count": 13,
   "metadata": {},
   "outputs": [],
   "source": [
    "# ROCK, PAPER, SCISSORS respectively\n",
    "ROCK, PAPER, SCISSORS = 0,1,2\n",
    "NUM_ACTIONS = 3\n",
    "\n",
    "def value(p1, p2):\n",
    "    if p1==p2:\n",
    "        return 0\n",
    "    elif (p1-1) % NUM_ACTIONS == p2:\n",
    "        return 1\n",
    "    else:\n",
    "        return -1"
   ]
  },
  {
   "cell_type": "code",
   "execution_count": 96,
   "metadata": {},
   "outputs": [],
   "source": [
    "def normalise(strategy):\n",
    "    strategy = strategy.copy()\n",
    "    normalisingSum = np.sum(strategy)\n",
    "    if normalisingSum > 0:\n",
    "        strategy /= normalisingSum\n",
    "    else:\n",
    "        strategy = np.ones(NUM_ACTIONS)/NUM_ACTIONS\n",
    "    return strategy\n",
    "\n",
    "def getStrategy(regretSum):\n",
    "    return normalise(np.maximum(regretSum, 0))\n",
    "\n",
    "# Use regret-matching by randomly* selecting an action. *proportional to our positive regrets.\n",
    "def getAction(strategy):\n",
    "    strategy /= np.sum(strategy) #normalise\n",
    "    return np.searchsorted(np.cumsum(strategy), random.random())"
   ]
  },
  {
   "cell_type": "code",
   "execution_count": 131,
   "metadata": {},
   "outputs": [
    {
     "name": "stdout",
     "output_type": "stream",
     "text": [
      "[0.74337465 0.05010807 0.20651728] [0.00066667 0.99866667 0.00066667]\n",
      "[0.37185399 0.0252207  0.6029253 ] [0.49966667 0.49966667 0.00066667]\n",
      "[0.24801377 0.34909158 0.40289465] [0.33541323 0.33344444 0.33114233]\n",
      "[0.19251033 0.37533489 0.43215477] [0.25437867 0.25529167 0.49032966]\n",
      "[0.35067493 0.30193458 0.34739049] [0.37430621 0.21436648 0.41132731]\n",
      "[0.4483916  0.25179456 0.29981384] [0.31203295 0.34513873 0.34282832]\n",
      "[0.48872473 0.21792375 0.29335152] [0.26888538 0.43716653 0.29394808]\n",
      "[0.42792997 0.1909871  0.38108293] [0.35681906 0.3859347  0.25724624]\n",
      "[0.38140072 0.2695403  0.34905898] [0.35521939 0.41570988 0.22907073]\n",
      "[0.34482731 0.32011567 0.33505701] [0.36065424 0.41476861 0.22457715]\n"
     ]
    },
    {
     "data": {
      "text/plain": [
       "(array([0.34482731, 0.32011567, 0.33505701]),\n",
       " array([0.36065424, 0.41476861, 0.22457715]))"
      ]
     },
     "execution_count": 131,
     "metadata": {},
     "output_type": "execute_result"
    }
   ],
   "source": [
    "def innertrain(regretSum, strategySum, oppStrategy):\n",
    "    # accumulate the current strategy based on regret\n",
    "    strategy = getStrategy(regretSum)\n",
    "    strategySum += strategy\n",
    "    \n",
    "    # regret-matching: choose action based on strategy\n",
    "    myAction = getAction(strategy)\n",
    "    oppAction = getAction(oppStrategy)\n",
    "    \n",
    "    actionUtility = np.zeros(NUM_ACTIONS)\n",
    "    actionUtility[oppAction] = 0\n",
    "    actionUtility[(oppAction + 1) % NUM_ACTIONS] = 1\n",
    "    actionUtility[(oppAction - 1) % NUM_ACTIONS] = -1\n",
    "\n",
    "    regretSum += actionUtility - actionUtility[myAction]\n",
    "    \n",
    "    return regretSum, strategySum\n",
    "\n",
    "def train(iterations):\n",
    "    regretSum = np.zeros(NUM_ACTIONS)\n",
    "    strategySum = np.zeros(NUM_ACTIONS)\n",
    "    oppStrategy = np.array([0.4,0.3,0.3])\n",
    "    \n",
    "    for i in range(iterations):\n",
    "        regretSum, strategySum = innertrain(regretSum, strategySum, oppStrategy)\n",
    "        \n",
    "    return strategySum\n",
    "\n",
    "def train2p(oiterations, iterations):\n",
    "    strategySumP1 = np.zeros(NUM_ACTIONS)\n",
    "    strategySumP2 = np.zeros(NUM_ACTIONS)\n",
    "        \n",
    "    for j in range(oiterations):\n",
    "        regretSumP1 = np.zeros(NUM_ACTIONS)\n",
    "        regretSumP2 = np.zeros(NUM_ACTIONS)\n",
    "        \n",
    "        oppStrategy = normalise(strategySumP2)\n",
    "        for i in range(iterations):    \n",
    "            regretSumP1, strategySumP1 = innertrain(regretSumP1, strategySumP1, oppStrategy)\n",
    "            \n",
    "        oppStrategy = normalise(strategySumP1)\n",
    "        for i in range(iterations):\n",
    "            regretSumP2, strategySumP2 = innertrain(regretSumP2, strategySumP2, oppStrategy)\n",
    "        \n",
    "        print(normalise(strategySumP1), normalise(strategySumP2))\n",
    "        \n",
    "    return strategySumP1, strategySumP2\n",
    "\n",
    "s1, s2 = train2p(10, 1000)\n",
    "normalise(s1), normalise(s2)"
   ]
  },
  {
   "cell_type": "code",
   "execution_count": 127,
   "metadata": {},
   "outputs": [
    {
     "name": "stdout",
     "output_type": "stream",
     "text": [
      "[30, 18, 18, 6, 21, 15, 9, 15, 21, 11] [11, 21, 27, 11, 19, 30, 13, 24, 11, 7]\n"
     ]
    },
    {
     "data": {
      "text/plain": [
       "([<matplotlib.lines.Line2D at 0x11d22c240>], 14.84, 14.5)"
      ]
     },
     "execution_count": 127,
     "metadata": {},
     "output_type": "execute_result"
    },
    {
     "data": {
      "image/png": "[encoded data removed]",
      "text/plain": [
       "<Figure size 432x288 with 1 Axes>"
      ]
     },
     "metadata": {
      "needs_background": "light"
     },
     "output_type": "display_data"
    }
   ],
   "source": [
    "# 2 Player CFR Results\n",
    "s1, s2 = train2p(100, 300)\n",
    "strategy, oppStrategy = normalise(s1), normalise(s2)\n",
    "vvv = []\n",
    "for i in range(100):\n",
    "    vv = 0\n",
    "    for x in range(100):\n",
    "        myAction = getAction(strategy)\n",
    "        otherAction = getAction(oppStrategy)\n",
    "        vv += value(myAction, otherAction)\n",
    "    vvv.append(vv)\n",
    "print(vvv[:10], vvv[90:])\n",
    "plot(sorted(vvv)), np.mean(vvv), np.median(vvv)\n",
    "#plt.hist(vvv, bins=5), np.mean(vvv)"
   ]
  },
  {
   "cell_type": "code",
   "execution_count": 83,
   "metadata": {},
   "outputs": [
    {
     "name": "stdout",
     "output_type": "stream",
     "text": [
      "[6, 6, 19, -4, -3, -10, 5, 12, 12, 18] [12, 14, 23, -5, 3, 9, 0, 6, 9, 10]\n"
     ]
    },
    {
     "data": {
      "text/plain": [
       "([<matplotlib.lines.Line2D at 0x11afa4c18>], 7.92, 9.0)"
      ]
     },
     "execution_count": 83,
     "metadata": {},
     "output_type": "execute_result"
    },
    {
     "data": {
      "image/png": "[encoded data removed]",
      "text/plain": [
       "<Figure size 432x288 with 1 Axes>"
      ]
     },
     "metadata": {
      "needs_background": "light"
     },
     "output_type": "display_data"
    }
   ],
   "source": [
    "# 1 Player CFR Results\n",
    "stratSum = train(1000)\n",
    "strategy = normalise(stratSum)\n",
    "oppStrategy = np.array([0.4, 0.3, 0.3])\n",
    "\n",
    "vvv = []\n",
    "for i in range(100):\n",
    "    vv = 0\n",
    "    for x in range(100):\n",
    "        myAction = getAction(strategy)\n",
    "        otherAction = getAction(oppStrategy)\n",
    "        vv += value(myAction, otherAction)\n",
    "    vvv.append(vv)\n",
    "print(vvv[:10], vvv[90:])\n",
    "plot(sorted(vvv)), np.mean(vvv), np.median(vvv)"
   ]
  }
 ],
 "metadata": {
  "kernelspec": {
   "display_name": "Python 3",
   "language": "python",
   "name": "python3"
  },
  "language_info": {
   "codemirror_mode": {
    "name": "ipython",
    "version": 3
   },
   "file_extension": ".py",
   "mimetype": "text/x-python",
   "name": "python",
   "nbconvert_exporter": "python",
   "pygments_lexer": "ipython3",
   "version": "3.7.3"
  }
 },
 "nbformat": 4,
 "nbformat_minor": 2
}
