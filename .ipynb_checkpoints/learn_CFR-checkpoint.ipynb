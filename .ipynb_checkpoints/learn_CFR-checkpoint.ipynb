{
 "cells": [
  {
   "cell_type": "code",
   "execution_count": 2,
   "metadata": {},
   "outputs": [
    {
     "name": "stdout",
     "output_type": "stream",
     "text": [
      "Populating the interactive namespace from numpy and matplotlib\n"
     ]
    }
   ],
   "source": [
    "%pylab inline\n",
    "%load_ext autoreload\n",
    "%autoreload 2\n",
    "import numpy as np\n",
    "import random"
   ]
  },
  {
   "cell_type": "code",
   "execution_count": 26,
   "metadata": {},
   "outputs": [],
   "source": [
    "# ROCK, PAPER, SCISSORS respectively\n",
    "ROCK, PAPER, SCISSORS = 0,1,2\n",
    "NUM_ACTIONS = 3\n",
    "\n",
    "def value(p1, p2):\n",
    "    if p1==p2:\n",
    "        return 0\n",
    "    elif (p1-1) % NUM_ACTIONS == p2:\n",
    "        return 1\n",
    "    else:\n",
    "        return -1"
   ]
  },
  {
   "cell_type": "code",
   "execution_count": 27,
   "metadata": {},
   "outputs": [],
   "source": [
    "def normalise(strategy):\n",
    "    normalisingSum = np.sum(strategy)\n",
    "    if normalisingSum > 0:\n",
    "        strategy /= normalisingSum\n",
    "    else:\n",
    "        strategy = np.ones(NUM_ACTIONS)/NUM_ACTIONS\n",
    "    return strategy\n",
    "\n",
    "def getStrategy(regretSum):\n",
    "    return normalise(np.maximum(regretSum, 0))\n",
    "\n",
    "def getAverageStrategy(strategySum):\n",
    "    return normalise(strategySum)\n",
    "\n",
    "# Use regret-matching by randomly* selecting an action. *proportional to our positive regrets.\n",
    "def getAction(strategy):\n",
    "    strategy /= np.sum(strategy) #normalise\n",
    "    return np.searchsorted(np.cumsum(strategy), random.random())"
   ]
  },
  {
   "cell_type": "code",
   "execution_count": 29,
   "metadata": {},
   "outputs": [
    {
     "name": "stderr",
     "output_type": "stream",
     "text": [
      "/anaconda3/lib/python3.7/site-packages/ipykernel_launcher.py:17: RuntimeWarning: invalid value encountered in true_divide\n"
     ]
    },
    {
     "ename": "NameError",
     "evalue": "name 'oppStratSum' is not defined",
     "output_type": "error",
     "traceback": [
      "\u001b[0;31m---------------------------------------------------------------------------\u001b[0m",
      "\u001b[0;31mNameError\u001b[0m                                 Traceback (most recent call last)",
      "\u001b[0;32m<ipython-input-29-9f1c8452b462>\u001b[0m in \u001b[0;36m<module>\u001b[0;34m\u001b[0m\n\u001b[1;32m     28\u001b[0m \u001b[0;32mdef\u001b[0m \u001b[0mtrain2p\u001b[0m\u001b[0;34m(\u001b[0m\u001b[0miterations\u001b[0m\u001b[0;34m)\u001b[0m\u001b[0;34m:\u001b[0m\u001b[0;34m\u001b[0m\u001b[0;34m\u001b[0m\u001b[0m\n\u001b[1;32m     29\u001b[0m     \u001b[0;32mpass\u001b[0m\u001b[0;34m\u001b[0m\u001b[0;34m\u001b[0m\u001b[0m\n\u001b[0;32m---> 30\u001b[0;31m \u001b[0mstrategySum\u001b[0m\u001b[0;34m,\u001b[0m \u001b[0moppStratSum\u001b[0m \u001b[0;34m=\u001b[0m \u001b[0mtrain\u001b[0m\u001b[0;34m(\u001b[0m\u001b[0;36m10000\u001b[0m\u001b[0;34m)\u001b[0m\u001b[0;34m\u001b[0m\u001b[0;34m\u001b[0m\u001b[0m\n\u001b[0m",
      "\u001b[0;32m<ipython-input-29-9f1c8452b462>\u001b[0m in \u001b[0;36mtrain\u001b[0;34m(iterations)\u001b[0m\n\u001b[1;32m     24\u001b[0m         \u001b[0mregretSum\u001b[0m\u001b[0;34m,\u001b[0m \u001b[0mstrategySum\u001b[0m \u001b[0;34m=\u001b[0m \u001b[0minnertrain\u001b[0m\u001b[0;34m(\u001b[0m\u001b[0mregretSum\u001b[0m\u001b[0;34m,\u001b[0m \u001b[0mstrategySum\u001b[0m\u001b[0;34m,\u001b[0m \u001b[0moppStrategy\u001b[0m\u001b[0;34m)\u001b[0m\u001b[0;34m\u001b[0m\u001b[0;34m\u001b[0m\u001b[0m\n\u001b[1;32m     25\u001b[0m \u001b[0;34m\u001b[0m\u001b[0m\n\u001b[0;32m---> 26\u001b[0;31m     \u001b[0;32mreturn\u001b[0m \u001b[0mstrategySum\u001b[0m\u001b[0;34m,\u001b[0m \u001b[0moppStratSum\u001b[0m\u001b[0;34m\u001b[0m\u001b[0;34m\u001b[0m\u001b[0m\n\u001b[0m\u001b[1;32m     27\u001b[0m \u001b[0;34m\u001b[0m\u001b[0m\n\u001b[1;32m     28\u001b[0m \u001b[0;32mdef\u001b[0m \u001b[0mtrain2p\u001b[0m\u001b[0;34m(\u001b[0m\u001b[0miterations\u001b[0m\u001b[0;34m)\u001b[0m\u001b[0;34m:\u001b[0m\u001b[0;34m\u001b[0m\u001b[0;34m\u001b[0m\u001b[0m\n",
      "\u001b[0;31mNameError\u001b[0m: name 'oppStratSum' is not defined"
     ]
    }
   ],
   "source": [
    "def innertrain(regretSum, strategySum, oppStrategy):\n",
    "    # accumulate the current strategy based on regret\n",
    "    strategy = getStrategy(regretSum)\n",
    "    strategySum += strategy\n",
    "    \n",
    "    # regret-matching: choose action based on strategy\n",
    "    myAction = getAction(strategy)\n",
    "    oppAction = getAction(oppStrategy)\n",
    "    \n",
    "    actionUtility = np.zeros(NUM_ACTIONS)\n",
    "    actionUtility[oppAction] = 0\n",
    "    actionUtility[(oppAction + 1) % NUM_ACTIONS] = 1\n",
    "    actionUtility[(oppAction - 1) % NUM_ACTIONS] = -1\n",
    "\n",
    "    regretSum += actionUtility - actionUtility[myAction]\n",
    "    \n",
    "    return regretSum, strategySum\n",
    "\n",
    "def train(iterations):\n",
    "    regretSum = np.zeros(NUM_ACTIONS)\n",
    "    strategySum = np.zeros(NUM_ACTIONS)\n",
    "    oppStrategy = np.zeros(NUM_ACTIONS)\n",
    "    for i in range(iterations):\n",
    "        regretSum, strategySum = innertrain(regretSum, strategySum, oppStrategy)\n",
    "        \n",
    "    return strategySum, strategySum\n",
    "\n",
    "def train2p(iterations):\n",
    "    pass\n",
    "strategySum, oppStratSum = train(10000)"
   ]
  },
  {
   "cell_type": "code",
   "execution_count": 20,
   "metadata": {},
   "outputs": [
    {
     "name": "stdout",
     "output_type": "stream",
     "text": [
      "[0. 0. 0.]\n",
      "[-10, 5, -1, 6, -1, -11, 2, 1, 4, 4] [11, -12, 2, -2, 22, 0, 14, 15, 17, 11]\n"
     ]
    },
    {
     "data": {
      "text/plain": [
       "([<matplotlib.lines.Line2D at 0x12123e2e8>], 0.7)"
      ]
     },
     "execution_count": 20,
     "metadata": {},
     "output_type": "execute_result"
    },
    {
     "data": {
      "image/png": "[encoded data removed]",
      "text/plain": [
       "<Figure size 432x288 with 1 Axes>"
      ]
     },
     "metadata": {
      "needs_background": "light"
     },
     "output_type": "display_data"
    }
   ],
   "source": [
    "print(strategySum)\n",
    "strategy = getAverageStrategy(strategySum)\n",
    "\n",
    "vvv = []\n",
    "for i in range(100):\n",
    "    vv = 0\n",
    "    for x in range(100):\n",
    "        myAction = getAction(strategy)\n",
    "        otherAction = getAction(oppStrategy)\n",
    "        vv += value(myAction, otherAction)\n",
    "    vvv.append(vv)\n",
    "print(vvv[:10], vvv[90:])\n",
    "plot(sorted(vvv)), np.mean(vvv)\n",
    "# plt.hist(vvv, bins=10), np.mean(vvv)"
   ]
  }
 ],
 "metadata": {
  "kernelspec": {
   "display_name": "Python 3",
   "language": "python",
   "name": "python3"
  },
  "language_info": {
   "codemirror_mode": {
    "name": "ipython",
    "version": 3
   },
   "file_extension": ".py",
   "mimetype": "text/x-python",
   "name": "python",
   "nbconvert_exporter": "python",
   "pygments_lexer": "ipython3",
   "version": "3.7.3"
  }
 },
 "nbformat": 4,
 "nbformat_minor": 2
}
