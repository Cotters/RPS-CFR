{
 "cells": [
  {
   "cell_type": "code",
   "execution_count": 1,
   "metadata": {},
   "outputs": [
    {
     "name": "stdout",
     "output_type": "stream",
     "text": [
      "Populating the interactive namespace from numpy and matplotlib\n"
     ]
    }
   ],
   "source": [
    "%pylab inline\n",
    "%load_ext autoreload\n",
    "%autoreload 2\n",
    "import numpy as np\n",
    "import random"
   ]
  },
  {
   "cell_type": "code",
   "execution_count": 2,
   "metadata": {},
   "outputs": [],
   "source": [
    "# ROCK, PAPER, SCISSORS respectively\n",
    "ROCK, PAPER, SCISSORS = 0,1,2\n",
    "NUM_ACTIONS = 3\n",
    "oppStrategy = np.array([0.4, 0.3, 0.3])\n",
    "\n",
    "def value(p1, p2):\n",
    "    if p1==p2:\n",
    "        return 0\n",
    "    elif (p1-1)%NUM_ACTIONS == p2:\n",
    "        return 1\n",
    "    else:\n",
    "        return -1"
   ]
  },
  {
   "cell_type": "code",
   "execution_count": 3,
   "metadata": {},
   "outputs": [],
   "source": [
    "def normalise(strategy):\n",
    "    strategy = np.copy(strategy)\n",
    "    normalisingSum = np.sum(strategy)\n",
    "    if normalisingSum > 0:\n",
    "        strategy /= normalisingSum\n",
    "    else:\n",
    "        strategy = np.ones(strategy.shape[0]) / strategy.shape[0]\n",
    "    return strategy\n",
    "\n",
    "def getStrategy(regretSum):\n",
    "    return normalise(np.maximum(regretSum, 0))\n",
    "\n",
    "def getAverageStrategy(strategySum):\n",
    "    return normalise(strategySum)\n",
    "\n",
    "def getAction(strategy):\n",
    "    strategy /= np.sum(strategy) # normalise\n",
    "    return np.searchsorted(np.cumsum(strategy), random.random())"
   ]
  },
  {
   "cell_type": "code",
   "execution_count": 8,
   "metadata": {},
   "outputs": [],
   "source": [
    "def train(iterations):\n",
    "    regretSum = np.zeros(NUM_ACTIONS)\n",
    "    strategySum = np.zeros(NUM_ACTIONS)\n",
    "    actionUtility = np.zeros(NUM_ACTIONS)\n",
    "    for i in range(iterations):\n",
    "        strategy = getStrategy(regretSum)\n",
    "        strategySum += strategy\n",
    "        \n",
    "        myAction = getAction(strategy)\n",
    "        oppAction = getAction(oppStrategy)\n",
    "        \n",
    "        actionUtility[oppAction] = 0\n",
    "        actionUtility[(oppAction + 1) % NUM_ACTIONS] = 1\n",
    "        actionUtility[(oppAction - 1) % NUM_ACTIONS] = -1\n",
    "        regretSum += actionUtility - actionUtility[myAction]\n",
    "# Could use value():\n",
    "#   for a in range(NUM_ACTIONS):\n",
    "#     regretSum[a] += value(a, oppAction) - value(myAction, oppAction)\n",
    "    return strategySum\n",
    "strategySum = train(10000)"
   ]
  },
  {
   "cell_type": "code",
   "execution_count": 9,
   "metadata": {},
   "outputs": [
    {
     "name": "stdout",
     "output_type": "stream",
     "text": [
      "[8.33333333e-01 9.99334073e+03 5.82593795e+00]\n",
      "[8.33333333e-05 9.99334073e-01 5.82593795e-04]\n"
     ]
    },
    {
     "data": {
      "text/plain": [
       "([<matplotlib.lines.Line2D at 0x11b3700b8>], 10.35)"
      ]
     },
     "execution_count": 9,
     "metadata": {},
     "output_type": "execute_result"
    },
    {
     "data": {
      "image/png": "[encoded data removed]",
      "text/plain": [
       "<Figure size 432x288 with 1 Axes>"
      ]
     },
     "metadata": {
      "needs_background": "light"
     },
     "output_type": "display_data"
    }
   ],
   "source": [
    "print(strategySum)\n",
    "strategy = getAverageStrategy(strategySum)\n",
    "print(strategy)\n",
    "\n",
    "gameScoreHistory = []\n",
    "for i in range(200):\n",
    "    gameScore = 0\n",
    "    for x in range(100):\n",
    "        myAction = getAction(strategy)\n",
    "        otherAction = getAction(oppStrategy)\n",
    "        gameScore += value(myAction, otherAction)\n",
    "    gameScoreHistory.append(gameScore)\n",
    "plot(sorted(gameScoreHistory)), np.mean(gameScoreHistory)"
   ]
  },
  {
   "cell_type": "code",
   "execution_count": 131,
   "metadata": {},
   "outputs": [
    {
     "data": {
      "image/png": "[encoded data removed]",
      "text/plain": [
       "<Figure size 432x288 with 1 Axes>"
      ]
     },
     "metadata": {
      "needs_background": "light"
     },
     "output_type": "display_data"
    }
   ],
   "source": [
    "strategy = getAverageStrategy(strategySum)\n",
    "\n",
    "for j in range(5):\n",
    "    a = [getAction(getStrategy(strategy)) for i in range(100)]\n",
    "    plot(sorted(a))"
   ]
  }
 ],
 "metadata": {
  "kernelspec": {
   "display_name": "Python 3",
   "language": "python",
   "name": "python3"
  },
  "language_info": {
   "codemirror_mode": {
    "name": "ipython",
    "version": 3
   },
   "file_extension": ".py",
   "mimetype": "text/x-python",
   "name": "python",
   "nbconvert_exporter": "python",
   "pygments_lexer": "ipython3",
   "version": "3.7.3"
  }
 },
 "nbformat": 4,
 "nbformat_minor": 2
}
